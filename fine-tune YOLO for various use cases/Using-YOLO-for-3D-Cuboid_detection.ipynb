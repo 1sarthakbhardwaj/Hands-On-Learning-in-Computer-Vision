{
 "cells": [
  {
   "cell_type": "markdown",
   "id": "5443e00c",
   "metadata": {},
   "source": [
    "[![Labellerr](https://storage.googleapis.com/labellerr-cdn/%200%20Labellerr%20template/notebook.webp)](https://www.labellerr.com)\n",
    "\n",
    "# **Using YOLO for 3D Cuboid Detection**\n",
    "\n",
    "---\n",
    "\n",
    "[![labellerr](https://img.shields.io/badge/Labellerr-BLOG-black.svg)](https://www.labellerr.com/blog/<BLOG_NAME>)\n",
    "[![Youtube](https://img.shields.io/badge/Labellerr-YouTube-b31b1b.svg)](https://www.youtube.com/@Labellerr)\n",
    "[![Github](https://img.shields.io/badge/Labellerr-GitHub-green.svg)](https://github.com/Labellerr/Hands-On-Learning-in-Computer-Vision)\n",
    "[![Scientific Paper](https://img.shields.io/badge/Official-Paper-blue.svg)](<PAPER LINK>)"
   ]
  },
  {
   "cell_type": "code",
   "execution_count": null,
   "id": "391e8f50",
   "metadata": {},
   "outputs": [],
   "source": [
    "!git clone https://github.com/niconielsen32/YOLO-3D.git"
   ]
  },
  {
   "cell_type": "code",
   "execution_count": null,
   "id": "a9e1cd58",
   "metadata": {},
   "outputs": [],
   "source": [
    "!git clone https://github.com/yashsuman15/YOLO-3D-utils.git"
   ]
  },
  {
   "cell_type": "code",
   "execution_count": null,
   "id": "c7b39c8f",
   "metadata": {},
   "outputs": [],
   "source": [
    "!pip install -r YOLO-3D/requirements.txt\n",
    "!pip install transformers"
   ]
  },
  {
   "cell_type": "markdown",
   "id": "28d8610f",
   "metadata": {},
   "source": [
    "## **INFERENCING ON SAMPLE VIDEO**"
   ]
  },
  {
   "cell_type": "code",
   "execution_count": null,
   "id": "3e7c6d5e",
   "metadata": {},
   "outputs": [],
   "source": [
    "!python \"YOLO-3D/inference.py\" --source \"./video/car2_demo.mp4\" --output \"car_result.mp4\" --classes 2 --yolo-size large --depth-size base --device cuda --tracking"
   ]
  },
  {
   "cell_type": "code",
   "execution_count": null,
   "id": "6001f871",
   "metadata": {},
   "outputs": [],
   "source": [
    "!python \"YOLO-3D/inference.py\" --source \"./video/plant_demo.mp4\" --output \"plant_result.mp4\" --yolo-size large --depth-size base --device cuda --tracking"
   ]
  },
  {
   "cell_type": "code",
   "execution_count": null,
   "id": "1d8490fa",
   "metadata": {},
   "outputs": [],
   "source": [
    "!python \"YOLO-3D/inference.py\" --source \"./video/cup_demo.mp4\" --output \"cup2_result.mp4\" --classes 41 --yolo-size large --depth-size base --device cuda --tracking"
   ]
  }
 ],
 "metadata": {
  "kernelspec": {
   "display_name": "exp",
   "language": "python",
   "name": "python3"
  },
  "language_info": {
   "codemirror_mode": {
    "name": "ipython",
    "version": 3
   },
   "file_extension": ".py",
   "mimetype": "text/x-python",
   "name": "python",
   "nbconvert_exporter": "python",
   "pygments_lexer": "ipython3",
   "version": "3.10.18"
  }
 },
 "nbformat": 4,
 "nbformat_minor": 5
}

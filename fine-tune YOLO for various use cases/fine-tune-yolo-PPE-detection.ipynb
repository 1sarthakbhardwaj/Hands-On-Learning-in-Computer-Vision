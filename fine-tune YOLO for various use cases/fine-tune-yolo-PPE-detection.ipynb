{
 "cells": [
  {
   "cell_type": "markdown",
   "metadata": {},
   "source": [
    "[![Labellerr](https://storage.googleapis.com/labellerr-cdn/%200%20Labellerr%20template/notebook.webp)](https://www.labellerr.com)\n",
    "\n",
    "# **Fine-Tune YOLO to Detect Personal Protective Equipment (PPE) Compliance**\n",
    "\n",
    "---\n",
    "\n",
    "[![labellerr](https://img.shields.io/badge/Labellerr-BLOG-black.svg)](https://www.labellerr.com/blog/<BLOG_NAME>)\n",
    "[![Youtube](https://img.shields.io/badge/Labellerr-YouTube-b31b1b.svg)](https://www.youtube.com/@Labellerr)\n",
    "[![Github](https://img.shields.io/badge/Labellerr-GitHub-green.svg)](https://github.com/Labellerr/Hands-On-Learning-in-Computer-Vision)\n",
    "[![Scientific Paper](https://img.shields.io/badge/Official-Paper-blue.svg)](<PAPER LINK>)"
   ]
  },
  {
   "cell_type": "markdown",
   "metadata": {},
   "source": [
    "### **Step  - Create a Dataset**"
   ]
  },
  {
   "cell_type": "code",
   "execution_count": null,
   "metadata": {},
   "outputs": [],
   "source": [
    "# Clone the utility repository to access the required functions\n",
    "!git clone https://github.com/yashsuman15/yolo_finetune_utils.git"
   ]
  },
  {
   "cell_type": "code",
   "execution_count": null,
   "metadata": {},
   "outputs": [],
   "source": [
    "from yolo_finetune_utils.frame_extractor import extract_random_frames\n",
    "\n",
    "extract_random_frames(\n",
    "    paths=['./video'],\n",
    "    total_images=30,\n",
    "    out_dir='output'\n",
    ")"
   ]
  },
  {
   "cell_type": "markdown",
   "metadata": {},
   "source": [
    "### **Step  - Performed Annotation on the Dataset**"
   ]
  },
  {
   "cell_type": "code",
   "execution_count": null,
   "metadata": {},
   "outputs": [],
   "source": [
    "# Go to labellerr.com and create a workspace\n",
    "\n",
    "# Upload the images from the output directory\n",
    "\n",
    "# Annotate the images with bounding boxes for PPE items\n",
    "\n",
    "# Export the annotations in COCO JSON format"
   ]
  },
  {
   "cell_type": "markdown",
   "metadata": {},
   "source": [
    "### **Step - Convert COCO JSON Annotation to YOLO format**"
   ]
  },
  {
   "cell_type": "code",
   "execution_count": null,
   "metadata": {},
   "outputs": [],
   "source": [
    "from yolo_finetune_utils.coco_yolo_converter.bbox_converter import coco_to_yolo_converter\n",
    "\n",
    "result = coco_to_yolo_converter(\n",
    "            json_path='annotation.json',\n",
    "            images_dir='./output',\n",
    "            output_dir='yolo_format',\n",
    "            use_split=False\n",
    "            )"
   ]
  },
  {
   "cell_type": "markdown",
   "metadata": {
    "id": "gYrzZil_R9e8"
   },
   "source": [
    "### **Step - Install the Ultralytics Package**"
   ]
  },
  {
   "cell_type": "code",
   "execution_count": 5,
   "metadata": {
    "colab": {
     "base_uri": "https://localhost:8080/"
    },
    "execution": {
     "iopub.execute_input": "2024-10-08T10:53:42.140929Z",
     "iopub.status.busy": "2024-10-08T10:53:42.140487Z",
     "iopub.status.idle": "2024-10-08T10:53:57.946910Z",
     "shell.execute_reply": "2024-10-08T10:53:57.945769Z",
     "shell.execute_reply.started": "2024-10-08T10:53:42.140885Z"
    },
    "id": "Lrt8kAH2R5IH",
    "outputId": "08082014-c5c9-45f7-aa75-9546b9e168a9",
    "trusted": true
   },
   "outputs": [
    {
     "name": "stdout",
     "output_type": "stream",
     "text": [
      "Requirement already satisfied: ultralytics in /home/HP/miniconda3/envs/finetune-yolo/lib/python3.10/site-packages (8.3.168)\n",
      "Requirement already satisfied: numpy>=1.23.0 in /home/HP/miniconda3/envs/finetune-yolo/lib/python3.10/site-packages (from ultralytics) (2.2.6)\n",
      "Requirement already satisfied: matplotlib>=3.3.0 in /home/HP/miniconda3/envs/finetune-yolo/lib/python3.10/site-packages (from ultralytics) (3.10.3)\n",
      "Requirement already satisfied: opencv-python>=4.6.0 in /home/HP/miniconda3/envs/finetune-yolo/lib/python3.10/site-packages (from ultralytics) (4.12.0.88)\n",
      "Requirement already satisfied: pillow>=7.1.2 in /home/HP/miniconda3/envs/finetune-yolo/lib/python3.10/site-packages (from ultralytics) (11.3.0)\n",
      "Requirement already satisfied: pyyaml>=5.3.1 in /home/HP/miniconda3/envs/finetune-yolo/lib/python3.10/site-packages (from ultralytics) (6.0.2)\n",
      "Requirement already satisfied: requests>=2.23.0 in /home/HP/miniconda3/envs/finetune-yolo/lib/python3.10/site-packages (from ultralytics) (2.32.4)\n",
      "Requirement already satisfied: scipy>=1.4.1 in /home/HP/miniconda3/envs/finetune-yolo/lib/python3.10/site-packages (from ultralytics) (1.15.3)\n",
      "Requirement already satisfied: torch>=1.8.0 in /home/HP/miniconda3/envs/finetune-yolo/lib/python3.10/site-packages (from ultralytics) (2.7.1)\n",
      "Requirement already satisfied: torchvision>=0.9.0 in /home/HP/miniconda3/envs/finetune-yolo/lib/python3.10/site-packages (from ultralytics) (0.22.1)\n",
      "Requirement already satisfied: tqdm>=4.64.0 in /home/HP/miniconda3/envs/finetune-yolo/lib/python3.10/site-packages (from ultralytics) (4.67.1)\n",
      "Requirement already satisfied: psutil in /home/HP/miniconda3/envs/finetune-yolo/lib/python3.10/site-packages (from ultralytics) (5.9.0)\n",
      "Requirement already satisfied: py-cpuinfo in /home/HP/miniconda3/envs/finetune-yolo/lib/python3.10/site-packages (from ultralytics) (9.0.0)\n",
      "Requirement already satisfied: pandas>=1.1.4 in /home/HP/miniconda3/envs/finetune-yolo/lib/python3.10/site-packages (from ultralytics) (2.3.1)\n",
      "Requirement already satisfied: ultralytics-thop>=2.0.0 in /home/HP/miniconda3/envs/finetune-yolo/lib/python3.10/site-packages (from ultralytics) (2.0.14)\n",
      "Requirement already satisfied: contourpy>=1.0.1 in /home/HP/miniconda3/envs/finetune-yolo/lib/python3.10/site-packages (from matplotlib>=3.3.0->ultralytics) (1.3.2)\n",
      "Requirement already satisfied: cycler>=0.10 in /home/HP/miniconda3/envs/finetune-yolo/lib/python3.10/site-packages (from matplotlib>=3.3.0->ultralytics) (0.12.1)\n",
      "Requirement already satisfied: fonttools>=4.22.0 in /home/HP/miniconda3/envs/finetune-yolo/lib/python3.10/site-packages (from matplotlib>=3.3.0->ultralytics) (4.59.0)\n",
      "Requirement already satisfied: kiwisolver>=1.3.1 in /home/HP/miniconda3/envs/finetune-yolo/lib/python3.10/site-packages (from matplotlib>=3.3.0->ultralytics) (1.4.8)\n",
      "Requirement already satisfied: packaging>=20.0 in /home/HP/miniconda3/envs/finetune-yolo/lib/python3.10/site-packages (from matplotlib>=3.3.0->ultralytics) (24.2)\n",
      "Requirement already satisfied: pyparsing>=2.3.1 in /home/HP/miniconda3/envs/finetune-yolo/lib/python3.10/site-packages (from matplotlib>=3.3.0->ultralytics) (3.2.3)\n",
      "Requirement already satisfied: python-dateutil>=2.7 in /home/HP/miniconda3/envs/finetune-yolo/lib/python3.10/site-packages (from matplotlib>=3.3.0->ultralytics) (2.9.0.post0)\n",
      "Requirement already satisfied: pytz>=2020.1 in /home/HP/miniconda3/envs/finetune-yolo/lib/python3.10/site-packages (from pandas>=1.1.4->ultralytics) (2025.2)\n",
      "Requirement already satisfied: tzdata>=2022.7 in /home/HP/miniconda3/envs/finetune-yolo/lib/python3.10/site-packages (from pandas>=1.1.4->ultralytics) (2025.2)\n",
      "Requirement already satisfied: six>=1.5 in /home/HP/miniconda3/envs/finetune-yolo/lib/python3.10/site-packages (from python-dateutil>=2.7->matplotlib>=3.3.0->ultralytics) (1.17.0)\n",
      "Requirement already satisfied: charset_normalizer<4,>=2 in /home/HP/miniconda3/envs/finetune-yolo/lib/python3.10/site-packages (from requests>=2.23.0->ultralytics) (3.3.2)\n",
      "Requirement already satisfied: idna<4,>=2.5 in /home/HP/miniconda3/envs/finetune-yolo/lib/python3.10/site-packages (from requests>=2.23.0->ultralytics) (3.7)\n",
      "Requirement already satisfied: urllib3<3,>=1.21.1 in /home/HP/miniconda3/envs/finetune-yolo/lib/python3.10/site-packages (from requests>=2.23.0->ultralytics) (2.5.0)\n",
      "Requirement already satisfied: certifi>=2017.4.17 in /home/HP/miniconda3/envs/finetune-yolo/lib/python3.10/site-packages (from requests>=2.23.0->ultralytics) (2025.7.14)\n",
      "Requirement already satisfied: filelock in /home/HP/miniconda3/envs/finetune-yolo/lib/python3.10/site-packages (from torch>=1.8.0->ultralytics) (3.18.0)\n",
      "Requirement already satisfied: typing-extensions>=4.10.0 in /home/HP/miniconda3/envs/finetune-yolo/lib/python3.10/site-packages (from torch>=1.8.0->ultralytics) (4.12.2)\n",
      "Requirement already satisfied: sympy>=1.13.3 in /home/HP/miniconda3/envs/finetune-yolo/lib/python3.10/site-packages (from torch>=1.8.0->ultralytics) (1.14.0)\n",
      "Requirement already satisfied: networkx in /home/HP/miniconda3/envs/finetune-yolo/lib/python3.10/site-packages (from torch>=1.8.0->ultralytics) (3.4.2)\n",
      "Requirement already satisfied: jinja2 in /home/HP/miniconda3/envs/finetune-yolo/lib/python3.10/site-packages (from torch>=1.8.0->ultralytics) (3.1.6)\n",
      "Requirement already satisfied: fsspec in /home/HP/miniconda3/envs/finetune-yolo/lib/python3.10/site-packages (from torch>=1.8.0->ultralytics) (2025.7.0)\n",
      "Requirement already satisfied: nvidia-cuda-nvrtc-cu12==12.6.77 in /home/HP/miniconda3/envs/finetune-yolo/lib/python3.10/site-packages (from torch>=1.8.0->ultralytics) (12.6.77)\n",
      "Requirement already satisfied: nvidia-cuda-runtime-cu12==12.6.77 in /home/HP/miniconda3/envs/finetune-yolo/lib/python3.10/site-packages (from torch>=1.8.0->ultralytics) (12.6.77)\n",
      "Requirement already satisfied: nvidia-cuda-cupti-cu12==12.6.80 in /home/HP/miniconda3/envs/finetune-yolo/lib/python3.10/site-packages (from torch>=1.8.0->ultralytics) (12.6.80)\n",
      "Requirement already satisfied: nvidia-cudnn-cu12==9.5.1.17 in /home/HP/miniconda3/envs/finetune-yolo/lib/python3.10/site-packages (from torch>=1.8.0->ultralytics) (9.5.1.17)\n",
      "Requirement already satisfied: nvidia-cublas-cu12==12.6.4.1 in /home/HP/miniconda3/envs/finetune-yolo/lib/python3.10/site-packages (from torch>=1.8.0->ultralytics) (12.6.4.1)\n",
      "Requirement already satisfied: nvidia-cufft-cu12==11.3.0.4 in /home/HP/miniconda3/envs/finetune-yolo/lib/python3.10/site-packages (from torch>=1.8.0->ultralytics) (11.3.0.4)\n",
      "Requirement already satisfied: nvidia-curand-cu12==10.3.7.77 in /home/HP/miniconda3/envs/finetune-yolo/lib/python3.10/site-packages (from torch>=1.8.0->ultralytics) (10.3.7.77)\n",
      "Requirement already satisfied: nvidia-cusolver-cu12==11.7.1.2 in /home/HP/miniconda3/envs/finetune-yolo/lib/python3.10/site-packages (from torch>=1.8.0->ultralytics) (11.7.1.2)\n",
      "Requirement already satisfied: nvidia-cusparse-cu12==12.5.4.2 in /home/HP/miniconda3/envs/finetune-yolo/lib/python3.10/site-packages (from torch>=1.8.0->ultralytics) (12.5.4.2)\n",
      "Requirement already satisfied: nvidia-cusparselt-cu12==0.6.3 in /home/HP/miniconda3/envs/finetune-yolo/lib/python3.10/site-packages (from torch>=1.8.0->ultralytics) (0.6.3)\n",
      "Requirement already satisfied: nvidia-nccl-cu12==2.26.2 in /home/HP/miniconda3/envs/finetune-yolo/lib/python3.10/site-packages (from torch>=1.8.0->ultralytics) (2.26.2)\n",
      "Requirement already satisfied: nvidia-nvtx-cu12==12.6.77 in /home/HP/miniconda3/envs/finetune-yolo/lib/python3.10/site-packages (from torch>=1.8.0->ultralytics) (12.6.77)\n",
      "Requirement already satisfied: nvidia-nvjitlink-cu12==12.6.85 in /home/HP/miniconda3/envs/finetune-yolo/lib/python3.10/site-packages (from torch>=1.8.0->ultralytics) (12.6.85)\n",
      "Requirement already satisfied: nvidia-cufile-cu12==1.11.1.6 in /home/HP/miniconda3/envs/finetune-yolo/lib/python3.10/site-packages (from torch>=1.8.0->ultralytics) (1.11.1.6)\n",
      "Requirement already satisfied: triton==3.3.1 in /home/HP/miniconda3/envs/finetune-yolo/lib/python3.10/site-packages (from torch>=1.8.0->ultralytics) (3.3.1)\n",
      "Requirement already satisfied: setuptools>=40.8.0 in /home/HP/miniconda3/envs/finetune-yolo/lib/python3.10/site-packages (from triton==3.3.1->torch>=1.8.0->ultralytics) (78.1.1)\n",
      "Requirement already satisfied: mpmath<1.4,>=1.1.0 in /home/HP/miniconda3/envs/finetune-yolo/lib/python3.10/site-packages (from sympy>=1.13.3->torch>=1.8.0->ultralytics) (1.3.0)\n",
      "Requirement already satisfied: MarkupSafe>=2.0 in /home/HP/miniconda3/envs/finetune-yolo/lib/python3.10/site-packages (from jinja2->torch>=1.8.0->ultralytics) (3.0.2)\n"
     ]
    }
   ],
   "source": [
    "!pip install ultralytics"
   ]
  },
  {
   "cell_type": "markdown",
   "metadata": {
    "id": "7UavftMRSJhe"
   },
   "source": [
    "### **Step - Import All the Requried Libraries**"
   ]
  },
  {
   "cell_type": "code",
   "execution_count": 6,
   "metadata": {
    "colab": {
     "base_uri": "https://localhost:8080/"
    },
    "execution": {
     "iopub.execute_input": "2024-10-08T10:54:09.803437Z",
     "iopub.status.busy": "2024-10-08T10:54:09.802985Z",
     "iopub.status.idle": "2024-10-08T10:54:31.308005Z",
     "shell.execute_reply": "2024-10-08T10:54:31.306916Z",
     "shell.execute_reply.started": "2024-10-08T10:54:09.803393Z"
    },
    "id": "OKI6XspoSkdc",
    "outputId": "e46b2ba4-48dc-4a6c-abb4-629cf7e88a44",
    "trusted": true
   },
   "outputs": [
    {
     "name": "stdout",
     "output_type": "stream",
     "text": [
      "Ultralytics 8.3.168 🚀 Python-3.10.18 torch-2.7.1+cu126 CUDA:0 (NVIDIA L4, 22491MiB)\n",
      "Setup complete ✅ (4 CPUs, 15.6 GB RAM, 82.9/247.9 GB disk)\n"
     ]
    }
   ],
   "source": [
    "import ultralytics\n",
    "ultralytics.checks()"
   ]
  },
  {
   "cell_type": "code",
   "execution_count": 7,
   "metadata": {
    "execution": {
     "iopub.execute_input": "2024-10-08T10:54:37.319418Z",
     "iopub.status.busy": "2024-10-08T10:54:37.318897Z",
     "iopub.status.idle": "2024-10-08T10:54:37.324139Z",
     "shell.execute_reply": "2024-10-08T10:54:37.323199Z",
     "shell.execute_reply.started": "2024-10-08T10:54:37.319379Z"
    },
    "id": "oHWcOSblSGg8",
    "trusted": true
   },
   "outputs": [],
   "source": [
    "from ultralytics import YOLO\n",
    "from IPython.display import Image"
   ]
  },
  {
   "cell_type": "code",
   "execution_count": 8,
   "metadata": {},
   "outputs": [
    {
     "name": "stdout",
     "output_type": "stream",
     "text": [
      "/home/HP/USE_CASE_PROJECT/fine-tune-yolo-for-PPE-detection\n"
     ]
    }
   ],
   "source": [
    "!pwd"
   ]
  },
  {
   "cell_type": "code",
   "execution_count": 9,
   "metadata": {
    "colab": {
     "base_uri": "https://localhost:8080/",
     "height": 35
    },
    "execution": {
     "iopub.execute_input": "2024-10-08T10:55:32.254504Z",
     "iopub.status.busy": "2024-10-08T10:55:32.254004Z",
     "iopub.status.idle": "2024-10-08T10:55:32.263896Z",
     "shell.execute_reply": "2024-10-08T10:55:32.262758Z",
     "shell.execute_reply.started": "2024-10-08T10:55:32.254460Z"
    },
    "id": "mdZobxnHVhhf",
    "outputId": "40268334-9043-437c-c6ed-de1cd5374e8e",
    "trusted": true
   },
   "outputs": [
    {
     "name": "stdout",
     "output_type": "stream",
     "text": [
      "Dataset path: /home/HP/USE_CASE_PROJECT/fine-tune-yolo-for-PPE-detection/yolo_format\n"
     ]
    }
   ],
   "source": [
    "location = !pwd\n",
    "dataset_path = f\"{location[0]}/yolo_format\"\n",
    "print(f\"Dataset path: {dataset_path}\")"
   ]
  },
  {
   "cell_type": "markdown",
   "metadata": {
    "id": "B_cfUufNYF3_"
   },
   "source": [
    "### **Step - Train YOLO11 Model on a Custom Dataset**"
   ]
  },
  {
   "cell_type": "code",
   "execution_count": null,
   "metadata": {
    "colab": {
     "base_uri": "https://localhost:8080/"
    },
    "execution": {
     "iopub.execute_input": "2024-10-08T11:01:01.462203Z",
     "iopub.status.busy": "2024-10-08T11:01:01.461737Z",
     "iopub.status.idle": "2024-10-08T11:44:40.134169Z",
     "shell.execute_reply": "2024-10-08T11:44:40.132786Z",
     "shell.execute_reply.started": "2024-10-08T11:01:01.462163Z"
    },
    "id": "yxp_shPlYBAS",
    "outputId": "950df9d7-2ca6-4624-fc38-dfc4264059cb",
    "trusted": true
   },
   "outputs": [],
   "source": [
    "!yolo task=detect mode=train data={dataset_path}/dataset.yaml model=\"yolo11x.pt\" epochs=200 imgsz=640 batch=30"
   ]
  },
  {
   "cell_type": "markdown",
   "metadata": {
    "id": "v8XHiRuh7gYJ"
   },
   "source": [
    "### **Step - Inference with Custom Model on Videos**"
   ]
  },
  {
   "cell_type": "code",
   "execution_count": 12,
   "metadata": {
    "colab": {
     "base_uri": "https://localhost:8080/"
    },
    "execution": {
     "iopub.execute_input": "2024-10-08T11:49:37.983486Z",
     "iopub.status.busy": "2024-10-08T11:49:37.983009Z",
     "iopub.status.idle": "2024-10-08T11:49:37.989115Z",
     "shell.execute_reply": "2024-10-08T11:49:37.987921Z",
     "shell.execute_reply.started": "2024-10-08T11:49:37.983443Z"
    },
    "id": "xmwUaudA8JFj",
    "outputId": "2dbb1af8-60b2-42d9-bad7-2f9a7317a5b9",
    "trusted": true
   },
   "outputs": [
    {
     "name": "stdout",
     "output_type": "stream",
     "text": [
      "Ultralytics 8.3.168 🚀 Python-3.10.18 torch-2.7.1+cu126 CUDA:0 (NVIDIA L4, 22491MiB)\n",
      "YOLO11n summary (fused): 100 layers, 2,582,542 parameters, 0 gradients, 6.3 GFLOPs\n",
      "\n",
      "video 1/1 (frame 1/153) /home/HP/USE_CASE_PROJECT/fine-tune-yolo-for-PPE-detection/video/b.mp4: 736x1280 7 safety helmets, 7 vests, 70.5ms\n",
      "video 1/1 (frame 2/153) /home/HP/USE_CASE_PROJECT/fine-tune-yolo-for-PPE-detection/video/b.mp4: 736x1280 7 safety helmets, 7 vests, 11.1ms\n",
      "video 1/1 (frame 3/153) /home/HP/USE_CASE_PROJECT/fine-tune-yolo-for-PPE-detection/video/b.mp4: 736x1280 7 safety helmets, 7 vests, 9.6ms\n",
      "video 1/1 (frame 4/153) /home/HP/USE_CASE_PROJECT/fine-tune-yolo-for-PPE-detection/video/b.mp4: 736x1280 7 safety helmets, 8 vests, 9.8ms\n",
      "video 1/1 (frame 5/153) /home/HP/USE_CASE_PROJECT/fine-tune-yolo-for-PPE-detection/video/b.mp4: 736x1280 7 safety helmets, 7 vests, 10.8ms\n",
      "video 1/1 (frame 6/153) /home/HP/USE_CASE_PROJECT/fine-tune-yolo-for-PPE-detection/video/b.mp4: 736x1280 6 safety helmets, 7 vests, 10.1ms\n",
      "video 1/1 (frame 7/153) /home/HP/USE_CASE_PROJECT/fine-tune-yolo-for-PPE-detection/video/b.mp4: 736x1280 6 safety helmets, 8 vests, 10.2ms\n",
      "video 1/1 (frame 8/153) /home/HP/USE_CASE_PROJECT/fine-tune-yolo-for-PPE-detection/video/b.mp4: 736x1280 6 safety helmets, 8 vests, 9.6ms\n",
      "video 1/1 (frame 9/153) /home/HP/USE_CASE_PROJECT/fine-tune-yolo-for-PPE-detection/video/b.mp4: 736x1280 7 safety helmets, 8 vests, 10.3ms\n",
      "video 1/1 (frame 10/153) /home/HP/USE_CASE_PROJECT/fine-tune-yolo-for-PPE-detection/video/b.mp4: 736x1280 7 safety helmets, 8 vests, 9.4ms\n",
      "video 1/1 (frame 11/153) /home/HP/USE_CASE_PROJECT/fine-tune-yolo-for-PPE-detection/video/b.mp4: 736x1280 7 safety helmets, 8 vests, 9.2ms\n",
      "video 1/1 (frame 12/153) /home/HP/USE_CASE_PROJECT/fine-tune-yolo-for-PPE-detection/video/b.mp4: 736x1280 7 safety helmets, 7 vests, 10.0ms\n",
      "video 1/1 (frame 13/153) /home/HP/USE_CASE_PROJECT/fine-tune-yolo-for-PPE-detection/video/b.mp4: 736x1280 7 safety helmets, 7 vests, 9.7ms\n",
      "video 1/1 (frame 14/153) /home/HP/USE_CASE_PROJECT/fine-tune-yolo-for-PPE-detection/video/b.mp4: 736x1280 7 safety helmets, 7 vests, 9.4ms\n",
      "video 1/1 (frame 15/153) /home/HP/USE_CASE_PROJECT/fine-tune-yolo-for-PPE-detection/video/b.mp4: 736x1280 7 safety helmets, 7 vests, 9.3ms\n",
      "video 1/1 (frame 16/153) /home/HP/USE_CASE_PROJECT/fine-tune-yolo-for-PPE-detection/video/b.mp4: 736x1280 7 safety helmets, 7 vests, 9.5ms\n",
      "video 1/1 (frame 17/153) /home/HP/USE_CASE_PROJECT/fine-tune-yolo-for-PPE-detection/video/b.mp4: 736x1280 7 safety helmets, 7 vests, 11.4ms\n",
      "video 1/1 (frame 18/153) /home/HP/USE_CASE_PROJECT/fine-tune-yolo-for-PPE-detection/video/b.mp4: 736x1280 7 safety helmets, 7 vests, 9.3ms\n",
      "video 1/1 (frame 19/153) /home/HP/USE_CASE_PROJECT/fine-tune-yolo-for-PPE-detection/video/b.mp4: 736x1280 7 safety helmets, 7 vests, 9.0ms\n",
      "video 1/1 (frame 20/153) /home/HP/USE_CASE_PROJECT/fine-tune-yolo-for-PPE-detection/video/b.mp4: 736x1280 7 safety helmets, 7 vests, 9.6ms\n",
      "video 1/1 (frame 21/153) /home/HP/USE_CASE_PROJECT/fine-tune-yolo-for-PPE-detection/video/b.mp4: 736x1280 7 safety helmets, 7 vests, 9.8ms\n",
      "video 1/1 (frame 22/153) /home/HP/USE_CASE_PROJECT/fine-tune-yolo-for-PPE-detection/video/b.mp4: 736x1280 7 safety helmets, 7 vests, 8.9ms\n",
      "video 1/1 (frame 23/153) /home/HP/USE_CASE_PROJECT/fine-tune-yolo-for-PPE-detection/video/b.mp4: 736x1280 7 safety helmets, 7 vests, 9.0ms\n",
      "video 1/1 (frame 24/153) /home/HP/USE_CASE_PROJECT/fine-tune-yolo-for-PPE-detection/video/b.mp4: 736x1280 7 safety helmets, 7 vests, 9.1ms\n",
      "video 1/1 (frame 25/153) /home/HP/USE_CASE_PROJECT/fine-tune-yolo-for-PPE-detection/video/b.mp4: 736x1280 8 safety helmets, 7 vests, 9.3ms\n",
      "video 1/1 (frame 26/153) /home/HP/USE_CASE_PROJECT/fine-tune-yolo-for-PPE-detection/video/b.mp4: 736x1280 8 safety helmets, 7 vests, 8.8ms\n",
      "video 1/1 (frame 27/153) /home/HP/USE_CASE_PROJECT/fine-tune-yolo-for-PPE-detection/video/b.mp4: 736x1280 8 safety helmets, 7 vests, 8.9ms\n",
      "video 1/1 (frame 28/153) /home/HP/USE_CASE_PROJECT/fine-tune-yolo-for-PPE-detection/video/b.mp4: 736x1280 8 safety helmets, 7 vests, 10.0ms\n",
      "video 1/1 (frame 29/153) /home/HP/USE_CASE_PROJECT/fine-tune-yolo-for-PPE-detection/video/b.mp4: 736x1280 8 safety helmets, 7 vests, 9.4ms\n",
      "video 1/1 (frame 30/153) /home/HP/USE_CASE_PROJECT/fine-tune-yolo-for-PPE-detection/video/b.mp4: 736x1280 8 safety helmets, 7 vests, 10.1ms\n",
      "video 1/1 (frame 31/153) /home/HP/USE_CASE_PROJECT/fine-tune-yolo-for-PPE-detection/video/b.mp4: 736x1280 8 safety helmets, 7 vests, 9.1ms\n",
      "video 1/1 (frame 32/153) /home/HP/USE_CASE_PROJECT/fine-tune-yolo-for-PPE-detection/video/b.mp4: 736x1280 8 safety helmets, 7 vests, 9.1ms\n",
      "video 1/1 (frame 33/153) /home/HP/USE_CASE_PROJECT/fine-tune-yolo-for-PPE-detection/video/b.mp4: 736x1280 8 safety helmets, 7 vests, 9.1ms\n",
      "video 1/1 (frame 34/153) /home/HP/USE_CASE_PROJECT/fine-tune-yolo-for-PPE-detection/video/b.mp4: 736x1280 8 safety helmets, 7 vests, 10.3ms\n",
      "video 1/1 (frame 35/153) /home/HP/USE_CASE_PROJECT/fine-tune-yolo-for-PPE-detection/video/b.mp4: 736x1280 8 safety helmets, 8 vests, 9.0ms\n",
      "video 1/1 (frame 36/153) /home/HP/USE_CASE_PROJECT/fine-tune-yolo-for-PPE-detection/video/b.mp4: 736x1280 8 safety helmets, 8 vests, 10.0ms\n",
      "video 1/1 (frame 37/153) /home/HP/USE_CASE_PROJECT/fine-tune-yolo-for-PPE-detection/video/b.mp4: 736x1280 8 safety helmets, 8 vests, 9.6ms\n",
      "video 1/1 (frame 38/153) /home/HP/USE_CASE_PROJECT/fine-tune-yolo-for-PPE-detection/video/b.mp4: 736x1280 8 safety helmets, 8 vests, 10.4ms\n",
      "video 1/1 (frame 39/153) /home/HP/USE_CASE_PROJECT/fine-tune-yolo-for-PPE-detection/video/b.mp4: 736x1280 8 safety helmets, 8 vests, 9.1ms\n",
      "video 1/1 (frame 40/153) /home/HP/USE_CASE_PROJECT/fine-tune-yolo-for-PPE-detection/video/b.mp4: 736x1280 8 safety helmets, 8 vests, 9.1ms\n",
      "video 1/1 (frame 41/153) /home/HP/USE_CASE_PROJECT/fine-tune-yolo-for-PPE-detection/video/b.mp4: 736x1280 8 safety helmets, 8 vests, 8.9ms\n",
      "video 1/1 (frame 42/153) /home/HP/USE_CASE_PROJECT/fine-tune-yolo-for-PPE-detection/video/b.mp4: 736x1280 8 safety helmets, 8 vests, 8.9ms\n",
      "video 1/1 (frame 43/153) /home/HP/USE_CASE_PROJECT/fine-tune-yolo-for-PPE-detection/video/b.mp4: 736x1280 8 safety helmets, 8 vests, 9.7ms\n",
      "video 1/1 (frame 44/153) /home/HP/USE_CASE_PROJECT/fine-tune-yolo-for-PPE-detection/video/b.mp4: 736x1280 8 safety helmets, 8 vests, 9.0ms\n",
      "video 1/1 (frame 45/153) /home/HP/USE_CASE_PROJECT/fine-tune-yolo-for-PPE-detection/video/b.mp4: 736x1280 8 safety helmets, 8 vests, 8.8ms\n",
      "video 1/1 (frame 46/153) /home/HP/USE_CASE_PROJECT/fine-tune-yolo-for-PPE-detection/video/b.mp4: 736x1280 8 safety helmets, 8 vests, 10.2ms\n",
      "video 1/1 (frame 47/153) /home/HP/USE_CASE_PROJECT/fine-tune-yolo-for-PPE-detection/video/b.mp4: 736x1280 8 safety helmets, 8 vests, 9.1ms\n",
      "video 1/1 (frame 48/153) /home/HP/USE_CASE_PROJECT/fine-tune-yolo-for-PPE-detection/video/b.mp4: 736x1280 9 safety helmets, 8 vests, 8.9ms\n",
      "video 1/1 (frame 49/153) /home/HP/USE_CASE_PROJECT/fine-tune-yolo-for-PPE-detection/video/b.mp4: 736x1280 8 safety helmets, 8 vests, 9.1ms\n",
      "video 1/1 (frame 50/153) /home/HP/USE_CASE_PROJECT/fine-tune-yolo-for-PPE-detection/video/b.mp4: 736x1280 8 safety helmets, 8 vests, 9.5ms\n",
      "video 1/1 (frame 51/153) /home/HP/USE_CASE_PROJECT/fine-tune-yolo-for-PPE-detection/video/b.mp4: 736x1280 8 safety helmets, 8 vests, 8.8ms\n",
      "video 1/1 (frame 52/153) /home/HP/USE_CASE_PROJECT/fine-tune-yolo-for-PPE-detection/video/b.mp4: 736x1280 8 safety helmets, 8 vests, 8.9ms\n",
      "video 1/1 (frame 53/153) /home/HP/USE_CASE_PROJECT/fine-tune-yolo-for-PPE-detection/video/b.mp4: 736x1280 8 safety helmets, 8 vests, 8.8ms\n",
      "video 1/1 (frame 54/153) /home/HP/USE_CASE_PROJECT/fine-tune-yolo-for-PPE-detection/video/b.mp4: 736x1280 7 safety helmets, 9 vests, 10.9ms\n",
      "video 1/1 (frame 55/153) /home/HP/USE_CASE_PROJECT/fine-tune-yolo-for-PPE-detection/video/b.mp4: 736x1280 7 safety helmets, 8 vests, 9.6ms\n",
      "video 1/1 (frame 56/153) /home/HP/USE_CASE_PROJECT/fine-tune-yolo-for-PPE-detection/video/b.mp4: 736x1280 7 safety helmets, 8 vests, 9.2ms\n",
      "video 1/1 (frame 57/153) /home/HP/USE_CASE_PROJECT/fine-tune-yolo-for-PPE-detection/video/b.mp4: 736x1280 8 safety helmets, 8 vests, 9.2ms\n",
      "video 1/1 (frame 58/153) /home/HP/USE_CASE_PROJECT/fine-tune-yolo-for-PPE-detection/video/b.mp4: 736x1280 7 safety helmets, 7 vests, 9.0ms\n",
      "video 1/1 (frame 59/153) /home/HP/USE_CASE_PROJECT/fine-tune-yolo-for-PPE-detection/video/b.mp4: 736x1280 8 safety helmets, 7 vests, 9.3ms\n",
      "video 1/1 (frame 60/153) /home/HP/USE_CASE_PROJECT/fine-tune-yolo-for-PPE-detection/video/b.mp4: 736x1280 8 safety helmets, 7 vests, 9.3ms\n",
      "video 1/1 (frame 61/153) /home/HP/USE_CASE_PROJECT/fine-tune-yolo-for-PPE-detection/video/b.mp4: 736x1280 8 safety helmets, 7 vests, 9.5ms\n",
      "video 1/1 (frame 62/153) /home/HP/USE_CASE_PROJECT/fine-tune-yolo-for-PPE-detection/video/b.mp4: 736x1280 8 safety helmets, 8 vests, 9.2ms\n",
      "video 1/1 (frame 63/153) /home/HP/USE_CASE_PROJECT/fine-tune-yolo-for-PPE-detection/video/b.mp4: 736x1280 8 safety helmets, 7 vests, 9.5ms\n",
      "video 1/1 (frame 64/153) /home/HP/USE_CASE_PROJECT/fine-tune-yolo-for-PPE-detection/video/b.mp4: 736x1280 8 safety helmets, 6 vests, 9.4ms\n",
      "video 1/1 (frame 65/153) /home/HP/USE_CASE_PROJECT/fine-tune-yolo-for-PPE-detection/video/b.mp4: 736x1280 7 safety helmets, 6 vests, 9.0ms\n",
      "video 1/1 (frame 66/153) /home/HP/USE_CASE_PROJECT/fine-tune-yolo-for-PPE-detection/video/b.mp4: 736x1280 7 safety helmets, 7 vests, 9.0ms\n",
      "video 1/1 (frame 67/153) /home/HP/USE_CASE_PROJECT/fine-tune-yolo-for-PPE-detection/video/b.mp4: 736x1280 7 safety helmets, 8 vests, 9.7ms\n",
      "video 1/1 (frame 68/153) /home/HP/USE_CASE_PROJECT/fine-tune-yolo-for-PPE-detection/video/b.mp4: 736x1280 7 safety helmets, 7 vests, 9.0ms\n",
      "video 1/1 (frame 69/153) /home/HP/USE_CASE_PROJECT/fine-tune-yolo-for-PPE-detection/video/b.mp4: 736x1280 7 safety helmets, 9 vests, 9.0ms\n",
      "video 1/1 (frame 70/153) /home/HP/USE_CASE_PROJECT/fine-tune-yolo-for-PPE-detection/video/b.mp4: 736x1280 7 safety helmets, 8 vests, 9.5ms\n",
      "video 1/1 (frame 71/153) /home/HP/USE_CASE_PROJECT/fine-tune-yolo-for-PPE-detection/video/b.mp4: 736x1280 8 safety helmets, 8 vests, 9.9ms\n",
      "video 1/1 (frame 72/153) /home/HP/USE_CASE_PROJECT/fine-tune-yolo-for-PPE-detection/video/b.mp4: 736x1280 8 safety helmets, 8 vests, 9.5ms\n",
      "video 1/1 (frame 73/153) /home/HP/USE_CASE_PROJECT/fine-tune-yolo-for-PPE-detection/video/b.mp4: 736x1280 8 safety helmets, 8 vests, 10.5ms\n",
      "video 1/1 (frame 74/153) /home/HP/USE_CASE_PROJECT/fine-tune-yolo-for-PPE-detection/video/b.mp4: 736x1280 8 safety helmets, 8 vests, 9.3ms\n",
      "video 1/1 (frame 75/153) /home/HP/USE_CASE_PROJECT/fine-tune-yolo-for-PPE-detection/video/b.mp4: 736x1280 8 safety helmets, 8 vests, 9.8ms\n",
      "video 1/1 (frame 76/153) /home/HP/USE_CASE_PROJECT/fine-tune-yolo-for-PPE-detection/video/b.mp4: 736x1280 8 safety helmets, 8 vests, 9.4ms\n",
      "video 1/1 (frame 77/153) /home/HP/USE_CASE_PROJECT/fine-tune-yolo-for-PPE-detection/video/b.mp4: 736x1280 8 safety helmets, 9 vests, 9.1ms\n",
      "video 1/1 (frame 78/153) /home/HP/USE_CASE_PROJECT/fine-tune-yolo-for-PPE-detection/video/b.mp4: 736x1280 8 safety helmets, 7 vests, 9.2ms\n",
      "video 1/1 (frame 79/153) /home/HP/USE_CASE_PROJECT/fine-tune-yolo-for-PPE-detection/video/b.mp4: 736x1280 7 safety helmets, 7 vests, 9.1ms\n",
      "video 1/1 (frame 80/153) /home/HP/USE_CASE_PROJECT/fine-tune-yolo-for-PPE-detection/video/b.mp4: 736x1280 7 safety helmets, 7 vests, 9.0ms\n",
      "video 1/1 (frame 81/153) /home/HP/USE_CASE_PROJECT/fine-tune-yolo-for-PPE-detection/video/b.mp4: 736x1280 7 safety helmets, 7 vests, 9.0ms\n",
      "video 1/1 (frame 82/153) /home/HP/USE_CASE_PROJECT/fine-tune-yolo-for-PPE-detection/video/b.mp4: 736x1280 7 safety helmets, 7 vests, 9.1ms\n",
      "video 1/1 (frame 83/153) /home/HP/USE_CASE_PROJECT/fine-tune-yolo-for-PPE-detection/video/b.mp4: 736x1280 7 safety helmets, 7 vests, 9.7ms\n",
      "video 1/1 (frame 84/153) /home/HP/USE_CASE_PROJECT/fine-tune-yolo-for-PPE-detection/video/b.mp4: 736x1280 7 safety helmets, 7 vests, 9.2ms\n",
      "video 1/1 (frame 85/153) /home/HP/USE_CASE_PROJECT/fine-tune-yolo-for-PPE-detection/video/b.mp4: 736x1280 7 safety helmets, 7 vests, 8.9ms\n",
      "video 1/1 (frame 86/153) /home/HP/USE_CASE_PROJECT/fine-tune-yolo-for-PPE-detection/video/b.mp4: 736x1280 7 safety helmets, 7 vests, 9.5ms\n",
      "video 1/1 (frame 87/153) /home/HP/USE_CASE_PROJECT/fine-tune-yolo-for-PPE-detection/video/b.mp4: 736x1280 7 safety helmets, 7 vests, 9.3ms\n",
      "video 1/1 (frame 88/153) /home/HP/USE_CASE_PROJECT/fine-tune-yolo-for-PPE-detection/video/b.mp4: 736x1280 8 safety helmets, 8 vests, 9.1ms\n",
      "video 1/1 (frame 89/153) /home/HP/USE_CASE_PROJECT/fine-tune-yolo-for-PPE-detection/video/b.mp4: 736x1280 8 safety helmets, 8 vests, 9.3ms\n",
      "video 1/1 (frame 90/153) /home/HP/USE_CASE_PROJECT/fine-tune-yolo-for-PPE-detection/video/b.mp4: 736x1280 7 safety helmets, 8 vests, 9.2ms\n",
      "video 1/1 (frame 91/153) /home/HP/USE_CASE_PROJECT/fine-tune-yolo-for-PPE-detection/video/b.mp4: 736x1280 7 safety helmets, 8 vests, 9.8ms\n",
      "video 1/1 (frame 92/153) /home/HP/USE_CASE_PROJECT/fine-tune-yolo-for-PPE-detection/video/b.mp4: 736x1280 7 safety helmets, 8 vests, 11.2ms\n",
      "video 1/1 (frame 93/153) /home/HP/USE_CASE_PROJECT/fine-tune-yolo-for-PPE-detection/video/b.mp4: 736x1280 7 safety helmets, 8 vests, 9.4ms\n",
      "video 1/1 (frame 94/153) /home/HP/USE_CASE_PROJECT/fine-tune-yolo-for-PPE-detection/video/b.mp4: 736x1280 7 safety helmets, 8 vests, 9.6ms\n",
      "video 1/1 (frame 95/153) /home/HP/USE_CASE_PROJECT/fine-tune-yolo-for-PPE-detection/video/b.mp4: 736x1280 7 safety helmets, 8 vests, 9.6ms\n",
      "video 1/1 (frame 96/153) /home/HP/USE_CASE_PROJECT/fine-tune-yolo-for-PPE-detection/video/b.mp4: 736x1280 7 safety helmets, 8 vests, 10.2ms\n",
      "video 1/1 (frame 97/153) /home/HP/USE_CASE_PROJECT/fine-tune-yolo-for-PPE-detection/video/b.mp4: 736x1280 7 safety helmets, 9 vests, 9.6ms\n",
      "video 1/1 (frame 98/153) /home/HP/USE_CASE_PROJECT/fine-tune-yolo-for-PPE-detection/video/b.mp4: 736x1280 8 safety helmets, 8 vests, 9.5ms\n",
      "video 1/1 (frame 99/153) /home/HP/USE_CASE_PROJECT/fine-tune-yolo-for-PPE-detection/video/b.mp4: 736x1280 9 safety helmets, 8 vests, 9.8ms\n",
      "video 1/1 (frame 100/153) /home/HP/USE_CASE_PROJECT/fine-tune-yolo-for-PPE-detection/video/b.mp4: 736x1280 8 safety helmets, 8 vests, 9.1ms\n",
      "video 1/1 (frame 101/153) /home/HP/USE_CASE_PROJECT/fine-tune-yolo-for-PPE-detection/video/b.mp4: 736x1280 8 safety helmets, 8 vests, 9.1ms\n",
      "video 1/1 (frame 102/153) /home/HP/USE_CASE_PROJECT/fine-tune-yolo-for-PPE-detection/video/b.mp4: 736x1280 7 safety helmets, 8 vests, 9.2ms\n",
      "video 1/1 (frame 103/153) /home/HP/USE_CASE_PROJECT/fine-tune-yolo-for-PPE-detection/video/b.mp4: 736x1280 7 safety helmets, 9 vests, 9.1ms\n",
      "video 1/1 (frame 104/153) /home/HP/USE_CASE_PROJECT/fine-tune-yolo-for-PPE-detection/video/b.mp4: 736x1280 7 safety helmets, 8 vests, 9.1ms\n",
      "video 1/1 (frame 105/153) /home/HP/USE_CASE_PROJECT/fine-tune-yolo-for-PPE-detection/video/b.mp4: 736x1280 7 safety helmets, 8 vests, 9.3ms\n",
      "video 1/1 (frame 106/153) /home/HP/USE_CASE_PROJECT/fine-tune-yolo-for-PPE-detection/video/b.mp4: 736x1280 7 safety helmets, 7 vests, 10.3ms\n",
      "video 1/1 (frame 107/153) /home/HP/USE_CASE_PROJECT/fine-tune-yolo-for-PPE-detection/video/b.mp4: 736x1280 8 safety helmets, 7 vests, 9.6ms\n",
      "video 1/1 (frame 108/153) /home/HP/USE_CASE_PROJECT/fine-tune-yolo-for-PPE-detection/video/b.mp4: 736x1280 8 safety helmets, 6 vests, 10.5ms\n",
      "video 1/1 (frame 109/153) /home/HP/USE_CASE_PROJECT/fine-tune-yolo-for-PPE-detection/video/b.mp4: 736x1280 8 safety helmets, 6 vests, 10.0ms\n",
      "video 1/1 (frame 110/153) /home/HP/USE_CASE_PROJECT/fine-tune-yolo-for-PPE-detection/video/b.mp4: 736x1280 7 safety helmets, 7 vests, 9.2ms\n",
      "video 1/1 (frame 111/153) /home/HP/USE_CASE_PROJECT/fine-tune-yolo-for-PPE-detection/video/b.mp4: 736x1280 6 safety helmets, 7 vests, 9.1ms\n",
      "video 1/1 (frame 112/153) /home/HP/USE_CASE_PROJECT/fine-tune-yolo-for-PPE-detection/video/b.mp4: 736x1280 6 safety helmets, 6 vests, 9.8ms\n",
      "video 1/1 (frame 113/153) /home/HP/USE_CASE_PROJECT/fine-tune-yolo-for-PPE-detection/video/b.mp4: 736x1280 6 safety helmets, 6 vests, 10.2ms\n",
      "video 1/1 (frame 114/153) /home/HP/USE_CASE_PROJECT/fine-tune-yolo-for-PPE-detection/video/b.mp4: 736x1280 6 safety helmets, 6 vests, 9.3ms\n",
      "video 1/1 (frame 115/153) /home/HP/USE_CASE_PROJECT/fine-tune-yolo-for-PPE-detection/video/b.mp4: 736x1280 6 safety helmets, 6 vests, 9.2ms\n",
      "video 1/1 (frame 116/153) /home/HP/USE_CASE_PROJECT/fine-tune-yolo-for-PPE-detection/video/b.mp4: 736x1280 6 safety helmets, 6 vests, 9.3ms\n",
      "video 1/1 (frame 117/153) /home/HP/USE_CASE_PROJECT/fine-tune-yolo-for-PPE-detection/video/b.mp4: 736x1280 6 safety helmets, 6 vests, 9.9ms\n",
      "video 1/1 (frame 118/153) /home/HP/USE_CASE_PROJECT/fine-tune-yolo-for-PPE-detection/video/b.mp4: 736x1280 6 safety helmets, 6 vests, 10.1ms\n",
      "video 1/1 (frame 119/153) /home/HP/USE_CASE_PROJECT/fine-tune-yolo-for-PPE-detection/video/b.mp4: 736x1280 6 safety helmets, 6 vests, 8.9ms\n",
      "video 1/1 (frame 120/153) /home/HP/USE_CASE_PROJECT/fine-tune-yolo-for-PPE-detection/video/b.mp4: 736x1280 6 safety helmets, 6 vests, 9.0ms\n",
      "video 1/1 (frame 121/153) /home/HP/USE_CASE_PROJECT/fine-tune-yolo-for-PPE-detection/video/b.mp4: 736x1280 6 safety helmets, 6 vests, 11.1ms\n",
      "video 1/1 (frame 122/153) /home/HP/USE_CASE_PROJECT/fine-tune-yolo-for-PPE-detection/video/b.mp4: 736x1280 6 safety helmets, 7 vests, 10.2ms\n",
      "video 1/1 (frame 123/153) /home/HP/USE_CASE_PROJECT/fine-tune-yolo-for-PPE-detection/video/b.mp4: 736x1280 6 safety helmets, 6 vests, 9.2ms\n",
      "video 1/1 (frame 124/153) /home/HP/USE_CASE_PROJECT/fine-tune-yolo-for-PPE-detection/video/b.mp4: 736x1280 6 safety helmets, 6 vests, 9.4ms\n",
      "video 1/1 (frame 125/153) /home/HP/USE_CASE_PROJECT/fine-tune-yolo-for-PPE-detection/video/b.mp4: 736x1280 6 safety helmets, 6 vests, 11.5ms\n",
      "video 1/1 (frame 126/153) /home/HP/USE_CASE_PROJECT/fine-tune-yolo-for-PPE-detection/video/b.mp4: 736x1280 6 safety helmets, 6 vests, 9.3ms\n",
      "video 1/1 (frame 127/153) /home/HP/USE_CASE_PROJECT/fine-tune-yolo-for-PPE-detection/video/b.mp4: 736x1280 6 safety helmets, 6 vests, 10.1ms\n",
      "video 1/1 (frame 128/153) /home/HP/USE_CASE_PROJECT/fine-tune-yolo-for-PPE-detection/video/b.mp4: 736x1280 6 safety helmets, 6 vests, 9.2ms\n",
      "video 1/1 (frame 129/153) /home/HP/USE_CASE_PROJECT/fine-tune-yolo-for-PPE-detection/video/b.mp4: 736x1280 5 safety helmets, 6 vests, 11.0ms\n",
      "video 1/1 (frame 130/153) /home/HP/USE_CASE_PROJECT/fine-tune-yolo-for-PPE-detection/video/b.mp4: 736x1280 6 safety helmets, 6 vests, 9.4ms\n",
      "video 1/1 (frame 131/153) /home/HP/USE_CASE_PROJECT/fine-tune-yolo-for-PPE-detection/video/b.mp4: 736x1280 6 safety helmets, 6 vests, 9.7ms\n",
      "video 1/1 (frame 132/153) /home/HP/USE_CASE_PROJECT/fine-tune-yolo-for-PPE-detection/video/b.mp4: 736x1280 6 safety helmets, 6 vests, 9.1ms\n",
      "video 1/1 (frame 133/153) /home/HP/USE_CASE_PROJECT/fine-tune-yolo-for-PPE-detection/video/b.mp4: 736x1280 6 safety helmets, 6 vests, 9.2ms\n",
      "video 1/1 (frame 134/153) /home/HP/USE_CASE_PROJECT/fine-tune-yolo-for-PPE-detection/video/b.mp4: 736x1280 6 safety helmets, 7 vests, 9.2ms\n",
      "video 1/1 (frame 135/153) /home/HP/USE_CASE_PROJECT/fine-tune-yolo-for-PPE-detection/video/b.mp4: 736x1280 6 safety helmets, 6 vests, 9.3ms\n",
      "video 1/1 (frame 136/153) /home/HP/USE_CASE_PROJECT/fine-tune-yolo-for-PPE-detection/video/b.mp4: 736x1280 6 safety helmets, 6 vests, 9.1ms\n",
      "video 1/1 (frame 137/153) /home/HP/USE_CASE_PROJECT/fine-tune-yolo-for-PPE-detection/video/b.mp4: 736x1280 6 safety helmets, 6 vests, 9.0ms\n",
      "video 1/1 (frame 138/153) /home/HP/USE_CASE_PROJECT/fine-tune-yolo-for-PPE-detection/video/b.mp4: 736x1280 6 safety helmets, 6 vests, 9.1ms\n",
      "video 1/1 (frame 139/153) /home/HP/USE_CASE_PROJECT/fine-tune-yolo-for-PPE-detection/video/b.mp4: 736x1280 6 safety helmets, 6 vests, 9.9ms\n",
      "video 1/1 (frame 140/153) /home/HP/USE_CASE_PROJECT/fine-tune-yolo-for-PPE-detection/video/b.mp4: 736x1280 6 safety helmets, 6 vests, 9.0ms\n",
      "video 1/1 (frame 141/153) /home/HP/USE_CASE_PROJECT/fine-tune-yolo-for-PPE-detection/video/b.mp4: 736x1280 6 safety helmets, 6 vests, 8.9ms\n",
      "video 1/1 (frame 142/153) /home/HP/USE_CASE_PROJECT/fine-tune-yolo-for-PPE-detection/video/b.mp4: 736x1280 6 safety helmets, 6 vests, 9.3ms\n",
      "video 1/1 (frame 143/153) /home/HP/USE_CASE_PROJECT/fine-tune-yolo-for-PPE-detection/video/b.mp4: 736x1280 6 safety helmets, 6 vests, 10.0ms\n",
      "video 1/1 (frame 144/153) /home/HP/USE_CASE_PROJECT/fine-tune-yolo-for-PPE-detection/video/b.mp4: 736x1280 7 safety helmets, 6 vests, 9.5ms\n",
      "video 1/1 (frame 145/153) /home/HP/USE_CASE_PROJECT/fine-tune-yolo-for-PPE-detection/video/b.mp4: 736x1280 7 safety helmets, 6 vests, 9.1ms\n",
      "video 1/1 (frame 146/153) /home/HP/USE_CASE_PROJECT/fine-tune-yolo-for-PPE-detection/video/b.mp4: 736x1280 7 safety helmets, 6 vests, 9.4ms\n",
      "video 1/1 (frame 147/153) /home/HP/USE_CASE_PROJECT/fine-tune-yolo-for-PPE-detection/video/b.mp4: 736x1280 7 safety helmets, 6 vests, 9.7ms\n",
      "video 1/1 (frame 148/153) /home/HP/USE_CASE_PROJECT/fine-tune-yolo-for-PPE-detection/video/b.mp4: 736x1280 7 safety helmets, 6 vests, 9.1ms\n",
      "video 1/1 (frame 149/153) /home/HP/USE_CASE_PROJECT/fine-tune-yolo-for-PPE-detection/video/b.mp4: 736x1280 7 safety helmets, 6 vests, 9.3ms\n",
      "video 1/1 (frame 150/153) /home/HP/USE_CASE_PROJECT/fine-tune-yolo-for-PPE-detection/video/b.mp4: 736x1280 7 safety helmets, 6 vests, 9.3ms\n",
      "video 1/1 (frame 151/153) /home/HP/USE_CASE_PROJECT/fine-tune-yolo-for-PPE-detection/video/b.mp4: 736x1280 7 safety helmets, 7 vests, 10.2ms\n",
      "video 1/1 (frame 152/153) /home/HP/USE_CASE_PROJECT/fine-tune-yolo-for-PPE-detection/video/b.mp4: 736x1280 7 safety helmets, 6 vests, 9.0ms\n",
      "video 1/1 (frame 153/153) /home/HP/USE_CASE_PROJECT/fine-tune-yolo-for-PPE-detection/video/b.mp4: 736x1280 7 safety helmets, 6 vests, 10.0ms\n",
      "Speed: 5.6ms preprocess, 9.9ms inference, 5.0ms postprocess per image at shape (1, 3, 736, 1280)\n",
      "Results saved to \u001b[1mruns/detect/predict2\u001b[0m\n",
      "💡 Learn more at https://docs.ultralytics.com/modes/predict\n"
     ]
    }
   ],
   "source": [
    "!yolo task=detect mode=predict model=\"./runs/detect/train/weights/best.pt\" conf=0.25 source=\"./video/b.mp4\" save=True show_labels=False"
   ]
  }
 ],
 "metadata": {
  "accelerator": "GPU",
  "colab": {
   "gpuType": "T4",
   "machine_shape": "hm",
   "provenance": []
  },
  "kaggle": {
   "accelerator": "none",
   "dataSources": [],
   "dockerImageVersionId": 30787,
   "isGpuEnabled": false,
   "isInternetEnabled": true,
   "language": "python",
   "sourceType": "notebook"
  },
  "kernelspec": {
   "display_name": "finetune-yolo",
   "language": "python",
   "name": "python3"
  },
  "language_info": {
   "codemirror_mode": {
    "name": "ipython",
    "version": 3
   },
   "file_extension": ".py",
   "mimetype": "text/x-python",
   "name": "python",
   "nbconvert_exporter": "python",
   "pygments_lexer": "ipython3",
   "version": "3.10.18"
  }
 },
 "nbformat": 4,
 "nbformat_minor": 4
}

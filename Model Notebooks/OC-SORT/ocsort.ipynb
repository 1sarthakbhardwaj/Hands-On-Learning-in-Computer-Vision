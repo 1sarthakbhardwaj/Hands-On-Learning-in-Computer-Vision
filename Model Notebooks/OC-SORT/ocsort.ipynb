{
 "cells": [
  {
   "cell_type": "markdown",
   "id": "18274e16",
   "metadata": {},
   "source": [
    "[![Labellerr](https://storage.googleapis.com/labellerr-cdn/%200%20Labellerr%20template/notebook.webp)](https://www.labellerr.com)\n",
    "\n",
    "# OC-SORT\n",
    "\n",
    "---\n",
    "\n",
    "[![labellerr](https://img.shields.io/badge/Labellerr-BLOG-black.svg)](https://www.labellerr.com/blog/<BLOG_NAME>)\n",
    "[![Youtube](https://img.shields.io/badge/Labellerr-YouTube-b31b1b.svg)](https://www.youtube.com/@Labellerr)\n",
    "[![Github](https://img.shields.io/badge/Labellerr-GitHub-green.svg)](https://github.com/Labellerr/Hands-On-Learning-in-Computer-Vision)\n",
    "[![Scientific Paper](https://img.shields.io/badge/Official-Paper-blue.svg)](<PAPER LINK>)\n",
    "\n",
    "## About Notebook\n",
    "OC‑SORT is a real-time multi-object tracking algorithm that improves SORT by using actual detection observations instead of relying only on motion predictions. It introduces virtual trajectory correction and observation-based momentum to handle occlusions and non-linear motion. While fast and effective, it depends heavily on detection quality and lacks appearance features.\n",
    "\n",
    "In this Notebook, you will learn to implement OC-SORT on your video and see the result in real time.\n",
    "we are going to use PyPI library i.e boxmot to implement OC-SORT on our vidoes. \n"
   ]
  },
  {
   "cell_type": "markdown",
   "id": "25a51ed5",
   "metadata": {},
   "source": [
    "## Installing Libraries"
   ]
  },
  {
   "cell_type": "code",
   "execution_count": null,
   "id": "84e7f0ef",
   "metadata": {},
   "outputs": [],
   "source": [
    "%pip install boxmot==13.0.9\n",
    "%pip install ultralytics==8.3.159"
   ]
  },
  {
   "cell_type": "markdown",
   "id": "2562c162",
   "metadata": {},
   "source": [
    "## Helper function"
   ]
  },
  {
   "cell_type": "code",
   "execution_count": null,
   "id": "cd1a6c82",
   "metadata": {},
   "outputs": [],
   "source": [
    "from IPython.display import Video, display\n",
    "\n",
    "import os\n",
    "import requests\n",
    "from IPython.display import Video, display\n",
    "\n",
    "def show_mp4(\n",
    "    url: str,\n",
    "    local_folder: str = \"../videos\",\n",
    "    filename: str    = None,\n",
    "    width: int       = 640,\n",
    "    autoplay: bool   = True,\n",
    "    loop: bool       = True,\n",
    "    muted: bool      = True,\n",
    "    timeout: float   = 10.0,\n",
    "):\n",
    "    \"\"\"\n",
    "    Downloads an MP4 from a CDN URL into a local folder, then embeds it in Colab.\n",
    "\n",
    "    Args:\n",
    "        url (str): Full URL to the .mp4 file.\n",
    "        local_folder (str): Path to folder where you want to save the download.\n",
    "        filename (str, optional): Name to save the file as; if None, inferred from URL.\n",
    "        width (int): Display width in pixels.\n",
    "        autoplay (bool): Start playing automatically.\n",
    "        loop (bool): Loop playback.\n",
    "        muted (bool): Mute audio.\n",
    "        timeout (float): Max seconds to wait for HTTP response.\n",
    "\n",
    "    Raises:\n",
    "        ValueError: if the URL doesn’t look like an MP4 or response isn’t correct.\n",
    "        requests.HTTPError: if download fails (non-2xx status).\n",
    "    \"\"\"\n",
    "    # Infer filename\n",
    "    if filename is None:\n",
    "        filename = os.path.basename(url.split(\"?\", 1)[0])\n",
    "    if not filename.lower().endswith(\".mp4\"):\n",
    "        raise ValueError(f\"Expected an .mp4 file, got '{filename}'\")\n",
    "\n",
    "    # Ensure folder\n",
    "    os.makedirs(local_folder, exist_ok=True)\n",
    "    local_path = os.path.join(local_folder, filename)\n",
    "\n",
    "    # Download if not already present\n",
    "    if not os.path.isfile(local_path):\n",
    "        resp = requests.get(url, stream=True, timeout=timeout)\n",
    "        resp.raise_for_status()\n",
    "        content_type = resp.headers.get(\"Content-Type\", \"\")\n",
    "        if \"video/mp4\" not in content_type.lower():\n",
    "            raise ValueError(f\"URL did not return MP4 (Content-Type={content_type})\")\n",
    "\n",
    "        # Stream write to disk\n",
    "        with open(local_path, \"wb\") as f:\n",
    "            for chunk in resp.iter_content(chunk_size=1024*1024):\n",
    "                if chunk:\n",
    "                    f.write(chunk)\n",
    "    else:\n",
    "        print(f\"✓ Using cached file at {local_path}\")\n",
    "\n",
    "    # Build video tag attributes\n",
    "    attrs = []\n",
    "    if autoplay: attrs.append(\"autoplay\")\n",
    "    if loop:     attrs.append(\"loop\")\n",
    "    if muted:    attrs.append(\"muted\")\n",
    "    html_attrs = \" \".join(attrs)\n",
    "\n",
    "    # Display\n",
    "    display(Video(local_path, embed=True, width=width, html_attributes=html_attrs))"
   ]
  },
  {
   "cell_type": "markdown",
   "id": "91c7e804",
   "metadata": {},
   "source": [
    "# Implement OC-SORT"
   ]
  },
  {
   "cell_type": "code",
   "execution_count": null,
   "id": "b19f3cbf",
   "metadata": {},
   "outputs": [],
   "source": [
    "# show_mp4(\"https://storage.googleapis.com/labellerr-cdn/%200%20Sample-videos/crowd.mp4\", width=640)"
   ]
  },
  {
   "cell_type": "code",
   "execution_count": null,
   "id": "14cf523b",
   "metadata": {},
   "outputs": [],
   "source": [
    "!boxmot track --source ../videos/crowd.mp4 --tracking-method ocsort --yolo-model yolo12x.pt --reid-model osnet_x1_0_msmt17.pt --project ocsort_results --name yolo12 --save --classes 0"
   ]
  },
  {
   "cell_type": "markdown",
   "id": "f83cb66c",
   "metadata": {},
   "source": [
    "# Tracking car"
   ]
  },
  {
   "cell_type": "code",
   "execution_count": null,
   "id": "4dcf2d86",
   "metadata": {},
   "outputs": [],
   "source": [
    "# show_mp4(\"https://storage.googleapis.com/labellerr-cdn/%200%20Sample-videos/car.mp4\", width=640)"
   ]
  },
  {
   "cell_type": "code",
   "execution_count": null,
   "id": "1e03d135",
   "metadata": {},
   "outputs": [],
   "source": [
    "!boxmot track --source ../videos/car.mp4 --tracking-method ocsort --yolo-model yolo12x.pt --reid-model osnet_x1_0_msmt17.pt --project ocsort_results --name yolo12 --save --classes 2"
   ]
  },
  {
   "cell_type": "markdown",
   "id": "a77bc356",
   "metadata": {},
   "source": [
    "# Tracking Plane"
   ]
  },
  {
   "cell_type": "code",
   "execution_count": null,
   "id": "88c3d769",
   "metadata": {},
   "outputs": [],
   "source": [
    "# show_mp4(\"https://storage.googleapis.com/labellerr-cdn/%200%20Sample-videos/plane.mp4\", width=640)"
   ]
  },
  {
   "cell_type": "code",
   "execution_count": null,
   "id": "d19859ac",
   "metadata": {},
   "outputs": [],
   "source": [
    "!boxmot track --source ../videos/plane.mp4 --tracking-method ocsort --yolo-model yolo12x.pt --reid-model osnet_x1_0_msmt17.pt --project ocsort_results --name yolo12 --save --classes 4"
   ]
  },
  {
   "cell_type": "markdown",
   "id": "41da20a0",
   "metadata": {},
   "source": [
    "# Tracking People in large crowd"
   ]
  },
  {
   "cell_type": "code",
   "execution_count": null,
   "id": "249fccb1",
   "metadata": {},
   "outputs": [],
   "source": [
    "# show_mp4(\"https://storage.googleapis.com/labellerr-cdn/%200%20Sample-videos/mall.mp4\", width=640)"
   ]
  },
  {
   "cell_type": "code",
   "execution_count": null,
   "id": "84277148",
   "metadata": {},
   "outputs": [],
   "source": [
    "!boxmot track --source ../videos/mall.mp4 --tracking-method ocsort --yolo-model yolo12x.pt --reid-model osnet_x1_0_msmt17.pt --project ocsort_results --name yolo12 --save --classes 0"
   ]
  },
  {
   "cell_type": "markdown",
   "id": "0a94d8f8",
   "metadata": {},
   "source": [
    "# Tracking Athlete"
   ]
  },
  {
   "cell_type": "code",
   "execution_count": null,
   "id": "85630c05",
   "metadata": {},
   "outputs": [],
   "source": [
    "# show_mp4(\"https://storage.googleapis.com/labellerr-cdn/%200%20Sample-videos/runner.mp4\", width=640)"
   ]
  },
  {
   "cell_type": "code",
   "execution_count": null,
   "id": "183c0081",
   "metadata": {},
   "outputs": [],
   "source": [
    "!boxmot track --source ../videos/runner.mp4 --tracking-method ocsort --yolo-model yolo12x.pt --reid-model osnet_x1_0_msmt17.pt --project ocsort_results --name yolo12 --save --classes 0"
   ]
  },
  {
   "cell_type": "markdown",
   "id": "52dac17b",
   "metadata": {},
   "source": [
    "# Tracking Horses"
   ]
  },
  {
   "cell_type": "code",
   "execution_count": null,
   "id": "99003303",
   "metadata": {},
   "outputs": [],
   "source": [
    "# show_mp4(\"https://storage.googleapis.com/labellerr-cdn/%200%20Sample-videos/horse.mp4\", width=640)"
   ]
  },
  {
   "cell_type": "code",
   "execution_count": null,
   "id": "7b106b09",
   "metadata": {},
   "outputs": [],
   "source": [
    "!boxmot track --source ../videos/horse.mp4 --tracking-method ocsort --yolo-model yolo12x.pt --reid-model osnet_x1_0_msmt17.pt --project ocsort_results --name yolo12 --save --classes 17"
   ]
  },
  {
   "cell_type": "markdown",
   "id": "cdbc91e0",
   "metadata": {},
   "source": [
    "---"
   ]
  }
 ],
 "metadata": {
  "kernelspec": {
   "display_name": "ocsort",
   "language": "python",
   "name": "python3"
  },
  "language_info": {
   "codemirror_mode": {
    "name": "ipython",
    "version": 3
   },
   "file_extension": ".py",
   "mimetype": "text/x-python",
   "name": "python",
   "nbconvert_exporter": "python",
   "pygments_lexer": "ipython3",
   "version": "3.9.23"
  }
 },
 "nbformat": 4,
 "nbformat_minor": 5
}

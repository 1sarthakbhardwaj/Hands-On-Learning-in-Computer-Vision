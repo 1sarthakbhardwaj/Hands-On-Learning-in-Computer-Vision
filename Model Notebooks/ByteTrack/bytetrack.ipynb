{
 "cells": [
  {
   "cell_type": "markdown",
   "id": "818741ef",
   "metadata": {},
   "source": [
    "[![Labellerr](https://storage.googleapis.com/labellerr-cdn/%200%20Labellerr%20template/notebook.webp)](https://www.labellerr.com)\n",
    "\n",
    "# ByteTrack\n",
    "\n",
    "---\n",
    "\n",
    "[![labellerr](https://img.shields.io/badge/Labellerr-BLOG-black.svg)](https://www.labellerr.com/blog/<BLOG_NAME>)\n",
    "[![Youtube](https://img.shields.io/badge/Labellerr-YouTube-b31b1b.svg)](https://www.youtube.com/@Labellerr)\n",
    "[![Github](https://img.shields.io/badge/Labellerr-GitHub-green.svg)](https://github.com/Labellerr/Hands-On-Learning-in-Computer-Vision)\n",
    "[![Scientific Paper](https://img.shields.io/badge/Official-Paper-blue.svg)](<PAPER LINK>)\n"
   ]
  },
  {
   "cell_type": "code",
   "execution_count": null,
   "id": "bd9624b6",
   "metadata": {},
   "outputs": [],
   "source": [
    "!pip install ultralytics opencv-python"
   ]
  },
  {
   "cell_type": "markdown",
   "id": "e2910d90",
   "metadata": {},
   "source": [
    "## Helper function"
   ]
  },
  {
   "cell_type": "code",
   "execution_count": null,
   "id": "564c1c7c",
   "metadata": {},
   "outputs": [],
   "source": [
    "import base64\n",
    "from IPython.display import HTML, display\n",
    "\n",
    "def show_mp4(path, width=640):\n",
    "    \"\"\"\n",
    "    Reads an MP4 from disk and embeds it as an HTML5 video in Colab.\n",
    "    \n",
    "    Args:\n",
    "        path (str): path to the .mp4 file\n",
    "        width (int): display width in pixels\n",
    "    \"\"\"\n",
    "    # Read & encode\n",
    "    with open(path, 'rb') as f:\n",
    "        mp4_bytes = f.read()\n",
    "    b64 = base64.b64encode(mp4_bytes).decode()\n",
    "    # Build HTML\n",
    "    html = f'''\n",
    "    <video width=\"{width}\" controls autoplay loop muted playsinline>\n",
    "      <source src=\"data:video/mp4;base64,{b64}\" type=\"video/mp4\">\n",
    "      Your browser does not support HTML5 video.\n",
    "    </video>\n",
    "    '''\n",
    "    display(HTML(html))"
   ]
  },
  {
   "cell_type": "code",
   "execution_count": null,
   "id": "7e88cd12",
   "metadata": {},
   "outputs": [],
   "source": [
    "from ultralytics import YOLO\n",
    "\n",
    "# Load YOLOv8 model (e.g., yolov8n.pt)\n",
    "model = YOLO(\"yolov8x.pt\")\n",
    "\n",
    "# Track objects in a video\n",
    "def bytetrack(path):\n",
    "    results = model.track(\n",
    "        source=path,\n",
    "        tracker=\"bytetrack.yaml\",  # Built-in ByteTrack config\n",
    "        persist=True,  # Maintain track IDs across frames\n",
    "        stream=True,  # Process video in real-time\n",
    "    )\n",
    "    \n",
    "    # Process results frame by frame\n",
    "    for frame_id, result in enumerate(results):\n",
    "        # Get tracking information\n",
    "        if result.boxes is not None and result.boxes.id is not None:\n",
    "            track_ids = result.boxes.id.int().cpu().tolist()\n",
    "            bboxes = result.boxes.xyxy.cpu().tolist()\n",
    "            confidences = result.boxes.conf.cpu().tolist()\n",
    "            class_ids = result.boxes.cls.int().cpu().tolist()\n",
    "            \n",
    "            # Print tracking results\n",
    "            for track_id, bbox, conf, cls_id in zip(track_ids, bboxes, confidences, class_ids):\n",
    "                print(f\"Frame {frame_id}: Track ID {track_id}, Class {cls_id}, \"\n",
    "                    f\"Confidence {conf:.2f}, BBox {bbox}\")"
   ]
  },
  {
   "cell_type": "code",
   "execution_count": null,
   "id": "b049649b",
   "metadata": {},
   "outputs": [],
   "source": [
    "show_mp4(\"sample/sample-6.mp4\")"
   ]
  },
  {
   "cell_type": "code",
   "execution_count": null,
   "id": "86de802a",
   "metadata": {},
   "outputs": [],
   "source": [
    "bytetrack(\"sample/sample-6.mp4\")  # tracking 2 people in video"
   ]
  },
  {
   "cell_type": "code",
   "execution_count": null,
   "id": "ce2a1b78",
   "metadata": {},
   "outputs": [],
   "source": [
    "import cv2\n",
    "import random\n",
    "from ultralytics import YOLO\n",
    "\n",
    "# Load YOLOv8 model\n",
    "model = YOLO(\"yolov8x.pt\")\n",
    "\n",
    "def bytetrack(path, output_path=\"output.mp4\", target_classes=None):\n",
    "    # Initialize video capture\n",
    "    cap = cv2.VideoCapture(path)\n",
    "    if not cap.isOpened():\n",
    "        print(\"Error opening video file\")\n",
    "        return\n",
    "    \n",
    "    # Get video properties\n",
    "    fps = cap.get(cv2.CAP_PROP_FPS)\n",
    "    width = int(cap.get(cv2.CAP_PROP_FRAME_WIDTH))\n",
    "    height = int(cap.get(cv2.CAP_PROP_FRAME_HEIGHT))\n",
    "    cap.release()\n",
    "\n",
    "    # Initialize video writer\n",
    "    fourcc = cv2.VideoWriter_fourcc(*'mp4v')\n",
    "    out = cv2.VideoWriter(output_path, fourcc, fps, (width, height))\n",
    "    \n",
    "    # Dictionary to store unique colors for each track ID\n",
    "    track_id_colors = {}\n",
    "    # Class IDs for person (0) and football (32)\n",
    "    target_classes = target_classes\n",
    "\n",
    "    # Track objects in video\n",
    "    results = model.track(\n",
    "        source=path,\n",
    "        tracker=\"bytetrack.yaml\",\n",
    "        persist=True,\n",
    "        stream=True,\n",
    "        classes=target_classes\n",
    "    )\n",
    "    \n",
    "    for frame_id, result in enumerate(results):\n",
    "        frame = result.orig_img.copy()  # Original frame without annotations\n",
    "        \n",
    "        if result.boxes is not None and result.boxes.id is not None:\n",
    "            # Get detection data\n",
    "            track_ids = result.boxes.id.int().cpu().tolist()\n",
    "            bboxes = result.boxes.xyxy.cpu().tolist()\n",
    "            class_ids = result.boxes.cls.int().cpu().tolist()\n",
    "            \n",
    "            # Process detections\n",
    "            for track_id, bbox, cls_id in zip(track_ids, bboxes, class_ids):\n",
    "                # Only process person and football classes\n",
    "                if cls_id not in target_classes:\n",
    "                    continue\n",
    "                \n",
    "                # Assign unique color for each track ID\n",
    "                if track_id not in track_id_colors:\n",
    "                    track_id_colors[track_id] = (\n",
    "                        random.randint(0, 255),\n",
    "                        random.randint(0, 255),\n",
    "                        random.randint(0, 255)\n",
    "                    )\n",
    "                color = track_id_colors[track_id]\n",
    "                \n",
    "                # Convert coordinates to integers\n",
    "                x1, y1, x2, y2 = map(int, bbox)\n",
    "                \n",
    "                # Draw bounding box\n",
    "                cv2.rectangle(frame, (x1, y1), (x2, y2), color, 3)\n",
    "                \n",
    "                # Display track ID with white background\n",
    "                text = f\"ID: {track_id}\"\n",
    "                (text_width, text_height), baseline = cv2.getTextSize(\n",
    "                    text, cv2.FONT_HERSHEY_SIMPLEX, 1.0, 2\n",
    "                )\n",
    "                \n",
    "                # Calculate background rectangle coordinates\n",
    "                bg_x1 = x1\n",
    "                bg_y1 = y1 - 15 - text_height  # Position above bounding box\n",
    "                bg_x2 = x1 + text_width\n",
    "                bg_y2 = y1 - 15 + baseline\n",
    "                \n",
    "                # Ensure background stays within frame\n",
    "                bg_y1 = max(0, bg_y1)  # Don't go above top of frame\n",
    "                bg_y2 = min(frame.shape[0], bg_y2)  # Don't go below bottom\n",
    "                \n",
    "                # Draw filled white rectangle\n",
    "                cv2.rectangle(frame, (bg_x1, bg_y1), (bg_x2, bg_y2), (255, 255, 255), -1)\n",
    "                \n",
    "                # Draw text\n",
    "                cv2.putText(frame, text, \n",
    "                            (x1, y1 - 15), \n",
    "                            cv2.FONT_HERSHEY_SIMPLEX, \n",
    "                            1.0, color, 2)\n",
    "        \n",
    "        # Write frame to output video\n",
    "        out.write(frame)\n",
    "        print(f\"Processed frame {frame_id}\", end='\\r')\n",
    "    \n",
    "    # Release video writer\n",
    "    out.release()\n",
    "    print(f\"\\nSaved video with enhanced track IDs: '{output_path}'\")"
   ]
  },
  {
   "cell_type": "code",
   "execution_count": null,
   "id": "16603712",
   "metadata": {},
   "outputs": [],
   "source": [
    "show_mp4('sample/sample-2.mp4')"
   ]
  },
  {
   "cell_type": "code",
   "execution_count": null,
   "id": "d12b8f4d",
   "metadata": {},
   "outputs": [],
   "source": [
    "bytetrack('sample/sample-2.mp4', 'result/result-2.mp4', [0, 32])  # tracking person and football"
   ]
  },
  {
   "cell_type": "code",
   "execution_count": null,
   "id": "d03ba238",
   "metadata": {},
   "outputs": [],
   "source": [
    "show_mp4('sample/sample-3.mp4')"
   ]
  },
  {
   "cell_type": "code",
   "execution_count": null,
   "id": "b03a6308",
   "metadata": {},
   "outputs": [],
   "source": [
    "bytetrack('sample/sample-3.mp4', 'result/result-3.mp4', [4])"
   ]
  },
  {
   "cell_type": "code",
   "execution_count": null,
   "id": "8df3833c",
   "metadata": {},
   "outputs": [],
   "source": [
    "show_mp4('sample/sample-5.mp4')"
   ]
  },
  {
   "cell_type": "code",
   "execution_count": null,
   "id": "0af0a6df",
   "metadata": {},
   "outputs": [],
   "source": [
    "bytetrack('sample/sample-5.mp4', 'result/result-5.mp4', [2]) # tracking car"
   ]
  },
  {
   "cell_type": "code",
   "execution_count": null,
   "id": "89a5e041",
   "metadata": {},
   "outputs": [],
   "source": []
  }
 ],
 "metadata": {
  "kernelspec": {
   "display_name": "bytetrack",
   "language": "python",
   "name": "python3"
  },
  "language_info": {
   "codemirror_mode": {
    "name": "ipython",
    "version": 3
   },
   "file_extension": ".py",
   "mimetype": "text/x-python",
   "name": "python",
   "nbconvert_exporter": "python",
   "pygments_lexer": "ipython3",
   "version": "3.10.16"
  }
 },
 "nbformat": 4,
 "nbformat_minor": 5
}

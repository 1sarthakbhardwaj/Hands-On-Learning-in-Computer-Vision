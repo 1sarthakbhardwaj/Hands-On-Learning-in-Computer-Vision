{
 "cells": [
  {
   "cell_type": "markdown",
   "id": "df4e3844",
   "metadata": {},
   "source": [
    "[![Labellerr](https://storage.googleapis.com/labellerr-cdn/%200%20Labellerr%20template/notebook.webp)](https://www.labellerr.com)\n",
    "\n",
    "# KOSMOS-2\n",
    "\n",
    "---\n",
    "\n",
    "[![labellerr](https://img.shields.io/badge/Labellerr-BLOG-black.svg)](https://www.labellerr.com/blog/<BLOG_NAME>)\n",
    "[![Youtube](https://img.shields.io/badge/Labellerr-YouTube-b31b1b.svg)](https://www.youtube.com/@Labellerr)\n",
    "[![Github](https://img.shields.io/badge/Labellerr-GitHub-green.svg)](https://github.com/Labellerr/Hands-On-Learning-in-Computer-Vision)\n",
    "[![Scientific Paper](https://img.shields.io/badge/Official-Paper-blue.svg)](<PAPER LINK>)"
   ]
  },
  {
   "cell_type": "code",
   "execution_count": null,
   "id": "196a8257",
   "metadata": {},
   "outputs": [],
   "source": [
    "from PIL import Image\n",
    "import requests\n",
    "from transformers import AutoProcessor, Kosmos2ForConditionalGeneration\n",
    "from io import BytesIO\n",
    "import os"
   ]
  },
  {
   "cell_type": "markdown",
   "id": "e2b0fc31",
   "metadata": {},
   "source": [
    "## Helper Function"
   ]
  },
  {
   "cell_type": "code",
   "execution_count": null,
   "id": "e41a62be",
   "metadata": {},
   "outputs": [],
   "source": [
    "def show_image(source):\n",
    "    \"\"\"\n",
    "    Display an image from a URL or a local file path.\n",
    "\n",
    "    Args:\n",
    "        source (str): The URL or local file path of the image.\n",
    "    \"\"\"\n",
    "    try:\n",
    "        if source.startswith(\"http://\") or source.startswith(\"https://\"):\n",
    "            # Load image from URL\n",
    "            response = requests.get(source)\n",
    "            response.raise_for_status()  # Raise exception for bad response\n",
    "            img = Image.open(BytesIO(response.content))\n",
    "        elif os.path.exists(source):\n",
    "            # Load image from local file path\n",
    "            img = Image.open(source)\n",
    "        else:\n",
    "            raise ValueError(\"Invalid source. Provide a valid URL or local file path.\")\n",
    "        \n",
    "        display(img)\n",
    "    \n",
    "    except Exception as e:\n",
    "        print(f\"Error displaying image: {e}\")"
   ]
  },
  {
   "cell_type": "code",
   "execution_count": null,
   "id": "c3640cc6",
   "metadata": {},
   "outputs": [],
   "source": [
    "checkpoint = \"microsoft/kosmos-2-patch14-224\"\n",
    "model = Kosmos2ForConditionalGeneration.from_pretrained(checkpoint)\n",
    "processor = AutoProcessor.from_pretrained(checkpoint)"
   ]
  },
  {
   "cell_type": "code",
   "execution_count": null,
   "id": "dbacdb0b",
   "metadata": {},
   "outputs": [],
   "source": [
    "url = \"https://huggingface.co/microsoft/kosmos-2-patch14-224/resolve/main/snowman.jpg\"\n",
    "image = Image.open(requests.get(url, stream=True).raw)\n",
    "\n",
    "prompt = \"<grounding> An image of\"\n",
    "\n",
    "inputs = processor(text=prompt, images=image, return_tensors=\"pt\")\n",
    "\n",
    "generated_ids = model.generate(\n",
    "    pixel_values=inputs[\"pixel_values\"],\n",
    "    input_ids=inputs[\"input_ids\"],\n",
    "    attention_mask=inputs[\"attention_mask\"],\n",
    "    image_embeds=None,\n",
    "    image_embeds_position_mask=inputs[\"image_embeds_position_mask\"],\n",
    "    use_cache=True,\n",
    "    max_new_tokens=64,\n",
    ")\n",
    "generated_text = processor.batch_decode(generated_ids, skip_special_tokens=True)[0]\n",
    "processed_text = processor.post_process_generation(generated_text, cleanup_and_extract=False)\n",
    "print(processed_text)\n",
    "\n",
    "caption, entities = processor.post_process_generation(generated_text)\n",
    "print(caption)\n",
    "\n",
    "print(entities)"
   ]
  },
  {
   "cell_type": "code",
   "execution_count": null,
   "id": "195b68c9",
   "metadata": {},
   "outputs": [],
   "source": [
    "def kosmos2_generate(image, prompt=\"<grounding> An image of\", cleanup_and_extract=False):\n",
    "    \"\"\"\n",
    "    Generate text from an image using the Kosmos-2 model.\n",
    "\n",
    "    Args:\n",
    "        image (PIL.Image): The input image.\n",
    "        prompt (str): The text prompt to guide the generation.\n",
    "        max_new_tokens (int): Maximum number of tokens to generate.\n",
    "\n",
    "    Returns:\n",
    "        str: The generated text.\n",
    "    \"\"\"\n",
    "    inputs = processor(text=prompt, images=image, return_tensors=\"pt\")\n",
    "    \n",
    "    generated_ids = model.generate(\n",
    "        pixel_values=inputs[\"pixel_values\"],\n",
    "        input_ids=inputs[\"input_ids\"],\n",
    "        attention_mask=inputs[\"attention_mask\"],\n",
    "        image_embeds=None,\n",
    "        image_embeds_position_mask=inputs[\"image_embeds_position_mask\"],\n",
    "        use_cache=True,\n",
    "        max_new_tokens=256\n",
    "    )\n",
    "    \n",
    "    generated_text = processor.batch_decode(generated_ids, skip_special_tokens=True)[0]\n",
    "    processed_text = processor.post_process_generation(generated_text, cleanup_and_extract=cleanup_and_extract)\n",
    "    \n",
    "    return processed_text"
   ]
  },
  {
   "cell_type": "code",
   "execution_count": null,
   "id": "e603f56e",
   "metadata": {},
   "outputs": [],
   "source": [
    "url1 = \"https://huggingface.co/microsoft/kosmos-2-patch14-224/resolve/main/snowman.jpg\"\n",
    "image1 = Image.open(requests.get(url1, stream=True).raw).resize((500, 500))\n",
    "display(image1)"
   ]
  },
  {
   "cell_type": "code",
   "execution_count": null,
   "id": "faf2439d",
   "metadata": {},
   "outputs": [],
   "source": [
    "kosmos2_generate(image1, prompt=\"what will happen to snowman?\")"
   ]
  },
  {
   "cell_type": "code",
   "execution_count": null,
   "id": "606cd674",
   "metadata": {},
   "outputs": [],
   "source": [
    "kosmos2_generate(image1, prompt=\"what is happening in this image?\")"
   ]
  },
  {
   "cell_type": "code",
   "execution_count": null,
   "id": "c6e8e41c",
   "metadata": {},
   "outputs": [],
   "source": [
    "kosmos2_generate(image1, prompt=\"<grounding> An image of\")"
   ]
  },
  {
   "cell_type": "code",
   "execution_count": null,
   "id": "9bec4c07",
   "metadata": {},
   "outputs": [],
   "source": [
    "question = [\"what is the color of the snowman?\",\n",
    "            \"<grounding> what is the color of the snowman's hat?\",\n",
    "            \"what is snowman doing in the image?\",\n",
    "            \"is something bad going to happen in the image?\",\n",
    "            \"what will happen to snowman?\",\n",
    "            \"what will happen if the snowman melts?\"]\n",
    "\n",
    "for q in question:\n",
    "    print(\"Question:\", q)\n",
    "    answer = kosmos2_generate(image1, prompt=f\"{q}\")\n",
    "    print(\"Answer:\", answer[0], \"\\n\", answer[1])\n",
    "    print(\"-\" * 50)"
   ]
  },
  {
   "cell_type": "code",
   "execution_count": null,
   "id": "90a472f8",
   "metadata": {},
   "outputs": [],
   "source": [
    "url = \"https://farm7.staticflickr.com/6076/6081598580_50d7e63633_z.jpg\"\n",
    "image2 = Image.open(requests.get(url, stream=True).raw)\n",
    "display(image2)"
   ]
  },
  {
   "cell_type": "code",
   "execution_count": null,
   "id": "f7284d36",
   "metadata": {},
   "outputs": [],
   "source": [
    "question = [\"<grounding> An image of\",\n",
    "            \"Which animals are in this image?\",\n",
    "            \"What are the elephants doing in this image?\"]\n",
    "\n",
    "for q in question:\n",
    "    print(\"Question:\", q)\n",
    "    answer = kosmos2_generate(image2, prompt=f\"{q}\")\n",
    "    print(\"Answer:\", answer[0], \"\\n\", answer[1])\n",
    "    print(\"-\" * 50)"
   ]
  },
  {
   "cell_type": "code",
   "execution_count": null,
   "id": "d022dddc",
   "metadata": {},
   "outputs": [],
   "source": [
    "url = \"https://i.pinimg.com/736x/9e/c3/26/9ec3269cf6bdcccbfcf64c1cd4c9a453.jpg\"\n",
    "image3 = Image.open(requests.get(url, stream=True).raw)\n",
    "display(image3)"
   ]
  },
  {
   "cell_type": "code",
   "execution_count": null,
   "id": "e31ad871",
   "metadata": {},
   "outputs": [],
   "source": [
    "question = [\"<grounding> An image of \",\n",
    "            \"Where is this image taken?\",\n",
    "            \"What is the tallest object in the image?\",\n",
    "            \"Any person in the image?\",\n",
    "            \"<grounding> where is person in the image?\"]\n",
    "\n",
    "for q in question:\n",
    "    print(\"Question:\", q)\n",
    "    answer = kosmos2_generate(image3, prompt=f\"{q}\")\n",
    "    print(\"Answer:\", answer[0], \"\\n\", answer[1])\n",
    "    print(\"-\" * 50)"
   ]
  },
  {
   "cell_type": "code",
   "execution_count": null,
   "id": "2aeb8875",
   "metadata": {},
   "outputs": [],
   "source": [
    "url = \"https://i.pinimg.com/736x/9e/c3/26/9ec3269cf6bdcccbfcf64c1cd4c9a453.jpg\"\n",
    "image4 = Image.open(requests.get(url, stream=True).raw)\n",
    "display(image4)"
   ]
  },
  {
   "cell_type": "code",
   "execution_count": null,
   "id": "819358d7",
   "metadata": {},
   "outputs": [],
   "source": [
    "question = [\"<grounding> An image of \",\n",
    "            \"Where is this image taken?\",\n",
    "            \"What is the tallest object in the image?\",\n",
    "            \"Any person in the image?\",\n",
    "            \"where is person in the image?\"]\n",
    "\n",
    "for q in question:\n",
    "    print(\"Question:\", q)\n",
    "    answer = kosmos2_generate(image4, prompt=f\"{q}\")\n",
    "    print(\"Answer:\", answer[0], \"\\n\", answer[1])\n",
    "    print(\"-\" * 50)"
   ]
  }
 ],
 "metadata": {
  "kernelspec": {
   "display_name": "VLM",
   "language": "python",
   "name": "python3"
  },
  "language_info": {
   "codemirror_mode": {
    "name": "ipython",
    "version": 3
   },
   "file_extension": ".py",
   "mimetype": "text/x-python",
   "name": "python",
   "nbconvert_exporter": "python",
   "pygments_lexer": "ipython3",
   "version": "3.10.18"
  }
 },
 "nbformat": 4,
 "nbformat_minor": 5
}
